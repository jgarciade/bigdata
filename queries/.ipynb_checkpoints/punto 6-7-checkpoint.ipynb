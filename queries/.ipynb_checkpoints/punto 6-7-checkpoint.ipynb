{
 "cells": [
  {
   "cell_type": "code",
   "execution_count": 6,
   "metadata": {},
   "outputs": [],
   "source": [
    "import json\n",
    "import pandas as pd\n",
    "import os\n",
    "import random"
   ]
  },
  {
   "cell_type": "code",
   "execution_count": 26,
   "metadata": {},
   "outputs": [
    {
     "data": {
      "text/plain": [
       "{'count': 745}"
      ]
     },
     "execution_count": 26,
     "metadata": {},
     "output_type": "execute_result"
    }
   ],
   "source": [
    "# Actual q10_2011 answer\n",
    "\n",
    "with open('question_answers_json/q10_2011.json', 'r') as f:\n",
    "    data = json.load(f)\n",
    "\n",
    "data"
   ]
  },
  {
   "cell_type": "markdown",
   "metadata": {},
   "source": [
    "# Mongo\n",
    "\n",
    "It will be inserted a new value in the a random document"
   ]
  },
  {
   "cell_type": "code",
   "execution_count": 25,
   "metadata": {},
   "outputs": [
    {
     "name": "stdout",
     "output_type": "stream",
     "text": [
      "mongo command:\n",
      "mongo --quiet stackoverflow --eval 'printjson(db.survey2011.find({\"company_size_range\": \"1-25\"}).count())' | xargs -o -I {} echo \"{count:\" {} \"}\" > question_answers_json/q10_2011.json\n"
     ]
    },
    {
     "data": {
      "text/plain": [
       "32000"
      ]
     },
     "execution_count": 25,
     "metadata": {},
     "output_type": "execute_result"
    }
   ],
   "source": [
    "year = 2011\n",
    "collection = f'survey{year}'\n",
    "new_data = {\n",
    "        \"age_range\": \"21-25\",\n",
    "        \"company_size_range\": \"1-25\",\n",
    "        \"experience_range\": \"0-2\",\n",
    "        \"gender\": \"male\",\n",
    "        \"os\": [\n",
    "            \"Linux\", \"Windows 7\"\n",
    "        ],\n",
    "        \"programming_languages\": [\n",
    "            \"Python\",\n",
    "            \"C\",\n",
    "            \"java\"\n",
    "        ],\n",
    "        \"region\": \"Germany\",\n",
    "        \"salary_range\": \">140k\",\n",
    "        \"satisfaction\": 3\n",
    "    }\n",
    "\n",
    "# inserts new data\n",
    "#new_data = json.dumps(new_data)\n",
    "#command = f'db.{collection}.insert({new_data})'\n",
    "#print(f'mongo command:\\n{command}')\n",
    "#os.system(f'mongo --quiet stackoverflow --eval {command}')\n",
    "\n",
    "# updates survey\n",
    "command = 'mongo --quiet stackoverflow --eval \\'printjson(db.survey2011.find({\"company_size_range\": \"1-25\"}).count())\\' | xargs -o -I {} echo \"{count:\" {} \"}\" > question_answers_json/q10_2011.json'\n",
    "print(f'mongo command:\\n{command}')\n",
    "os.system(command)\n"
   ]
  },
  {
   "cell_type": "code",
   "execution_count": null,
   "metadata": {},
   "outputs": [],
   "source": [
    "result = []\n",
    "\n",
    "for i in range(2011, 2018):\n",
    "    with open(f'clean_files/{i}.json') as f:\n",
    "        data = json.load(f)\n",
    "        for person in data:\n",
    "            result.append(person)\n",
    "\n",
    "with open('clean_files/data.json', 'w') as outfile:\n",
    "    json.dump(result, outfile, indent=4, sort_keys=True)\n",
    "\n",
    "total_people = len(result)\n",
    "print(f'saved {total_people} registers!')"
   ]
  }
 ],
 "metadata": {
  "kernelspec": {
   "display_name": "Python 3",
   "language": "python",
   "name": "python3"
  },
  "language_info": {
   "codemirror_mode": {
    "name": "ipython",
    "version": 3
   },
   "file_extension": ".py",
   "mimetype": "text/x-python",
   "name": "python",
   "nbconvert_exporter": "python",
   "pygments_lexer": "ipython3",
   "version": "3.6.7"
  }
 },
 "nbformat": 4,
 "nbformat_minor": 2
}
