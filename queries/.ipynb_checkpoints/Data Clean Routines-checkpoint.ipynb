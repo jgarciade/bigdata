{
 "cells": [
  {
   "cell_type": "markdown",
   "metadata": {},
   "source": [
    "# 2011"
   ]
  },
  {
   "cell_type": "code",
   "execution_count": 1,
   "metadata": {},
   "outputs": [],
   "source": [
    "from clean_base import Cleaner\n",
    "\n",
    "kwargs = {'data_fields': {'age': 2, 'experience': 3, 'region': 0, 'salary': 45,\n",
    "                          'programming_languages': [30, 42], 'satisfaction': 44,\n",
    "                          'gender': None, 'os': [43], 'company_size': 5},\n",
    "          'satisfaction_map': {'enjoy': 5, 'hurts': 4, 'not happy': 1, 'bills': 3},\n",
    "          'path_to_file': 'raw_data/2011.json'\n",
    "         }\n",
    "cleaner = Cleaner(**kwargs)\n",
    "cleaner.clean_and_save('clean_files/2011.json')"
   ]
  },
  {
   "cell_type": "markdown",
   "metadata": {},
   "source": [
    "# 2012"
   ]
  },
  {
   "cell_type": "code",
   "execution_count": 3,
   "metadata": {},
   "outputs": [],
   "source": [
    "kwargs = {'data_fields': {'age': 2, 'experience': 3, 'region': 0, 'salary': 39,\n",
    "                          'programming_languages': [22, 36], 'satisfaction': 38,\n",
    "                          'gender': None, 'os': [37], 'company_size': 5},\n",
    "            'satisfaction_map': {'love': 5, 'enjoy': 4, 'hate': 1, 'not happy': 2,'paycheck': 3, 'wish a job': None},\n",
    "            'path_to_file': 'raw_data/2012.json'\n",
    "            }\n",
    "cleaner = Cleaner(**kwargs)\n",
    "cleaner.clean_and_save('clean_files/2012.json')"
   ]
  },
  {
   "cell_type": "markdown",
   "metadata": {},
   "source": [
    "# 2013"
   ]
  },
  {
   "cell_type": "code",
   "execution_count": 4,
   "metadata": {},
   "outputs": [],
   "source": [
    "\n",
    "kwargs = {'data_fields': {'age': 2, 'experience': 3, 'region': 0, 'salary': 100,\n",
    "                          'programming_languages': [56, 69], 'satisfaction': 99,\n",
    "                          'gender': None, 'os': [81], 'company_size': 5},\n",
    "            'satisfaction_map': {'Love': 5, 'enjoy': 4, 'Hate': 1, 'not happy': 2,'paycheck': 3, 'wish a job': None},\n",
    "            'path_to_file': 'raw_data/2013.json'\n",
    "            }\n",
    "cleaner = Cleaner(**kwargs)\n",
    "cleaner.clean_and_save('clean_files/2013.json')"
   ]
  },
  {
   "cell_type": "markdown",
   "metadata": {},
   "source": [
    "# 2014"
   ]
  },
  {
   "cell_type": "code",
   "execution_count": 5,
   "metadata": {},
   "outputs": [],
   "source": [
    "kwargs = {'data_fields': {'age': 3, 'experience': 5, 'region': 0, 'salary': 7,\n",
    "                          'programming_languages': [42, 53], 'satisfaction':None,\n",
    "                          'gender': 4, 'os': [67], 'company_size': 9},\n",
    "            'satisfaction_map': {'Love': 5, 'enjoy': 4, 'Hate': 1, 'not happy': 2,'paycheck': 3, 'wish a job': None},\n",
    "            'path_to_file': 'raw_data/2014.json'\n",
    "            }\n",
    "cleaner = Cleaner(**kwargs)\n",
    "cleaner.clean_and_save('clean_files/2014.json')"
   ]
  },
  {
   "cell_type": "markdown",
   "metadata": {},
   "source": [
    "# 2015"
   ]
  },
  {
   "cell_type": "code",
   "execution_count": 6,
   "metadata": {},
   "outputs": [],
   "source": [
    "kwargs = {'data_fields': {'age': 1, 'experience': 4, 'region': 0, 'salary': 105,\n",
    "                          'programming_languages': [8, 50], 'satisfaction':109,\n",
    "                          'gender': 2, 'os': [6], 'company_size': None},\n",
    "            'satisfaction_map': {'love': 5, 'somewhat satisfied': 4, 'hate': 1, 'somewhat dissatisfied': 2,'neither': 3, 'Other': None},\n",
    "            'path_to_file': 'raw_data/2015.json'\n",
    "            }\n",
    "cleaner = Cleaner(**kwargs)\n",
    "cleaner.clean_and_save('clean_files/2015.json')"
   ]
  },
  {
   "cell_type": "markdown",
   "metadata": {},
   "source": [
    "# 2016\n"
   ]
  },
  {
   "cell_type": "code",
   "execution_count": 8,
   "metadata": {},
   "outputs": [],
   "source": [
    "from clean_2016 import Cleaner\n",
    "\n",
    "kwargs = {'data_fields': {'age': 'age_range', 'experience': 'experience_range',\n",
    "                          'region': 'country', 'salary': 'salary_range',\n",
    "                          'programming_languages': ['tech_do'], 'satisfaction':'job_satisfaction',\n",
    "                          'gender': 'gender', 'os': ['desktop_os'], 'company_size': 'company_size_range'},\n",
    "            'satisfaction_map': {'love': 5, 'somewhat satisfied': 4, 'hate': 1, 'somewhat dissatisfied': 2,\n",
    "                                 'neither': 3, 'Other': None},\n",
    "            'path_to_file': 'raw_data/2016.json'\n",
    "            }\n",
    "cleaner = Cleaner(**kwargs)\n",
    "cleaner.clean_and_save('clean_files/2016.json')"
   ]
  },
  {
   "cell_type": "markdown",
   "metadata": {},
   "source": [
    "# 2017"
   ]
  },
  {
   "cell_type": "code",
   "execution_count": 9,
   "metadata": {},
   "outputs": [],
   "source": [
    "from clean_2017 import Cleaner\n",
    "kwargs = {'data_fields': {'age': None, 'experience': 'YearsProgram',\n",
    "                          'region': 'Country', 'salary': 'Salary',\n",
    "                          'programming_languages': ['HaveWorkedLanguage'],\n",
    "                          'satisfaction':'JobSatisfaction',\n",
    "                          'gender': 'Gender', 'os': ['HaveWorkedPlatform'],\n",
    "                          'company_size': 'CompanySize'},\n",
    "            'satisfaction_map': {1: 0, 2: 1 ,3: 1 ,4: 2, 5: 2, 6: 3, 7: 3,\n",
    "                                 8: 4, 9: 4, 10: 5},\n",
    "            'path_to_file': 'raw_data/2017.json'\n",
    "            }\n",
    "\n",
    "cleaner = Cleaner(**kwargs)\n",
    "cleaner.clean_and_save('clean_files/2017.json')"
   ]
  },
  {
   "cell_type": "markdown",
   "metadata": {},
   "source": [
    "# Unique JSON file routine"
   ]
  },
  {
   "cell_type": "code",
   "execution_count": 14,
   "metadata": {},
   "outputs": [
    {
     "name": "stdout",
     "output_type": "stream",
     "text": [
      "saved 159959 registers!\n"
     ]
    }
   ],
   "source": [
    "import json\n",
    "\n",
    "result = []\n",
    "\n",
    "for i in range(2011, 2018):\n",
    "    with open(f'clean_files/{i}.json') as f:\n",
    "        data = json.load(f)\n",
    "        for person in data:\n",
    "            result.append(person)\n",
    "\n",
    "with open('clean_files/data.json', 'w') as outfile:\n",
    "    json.dump(result, outfile, indent=4, sort_keys=True)\n",
    "\n",
    "total_people = len(result)\n",
    "print(f'saved {total_people} registers!')"
   ]
  }
 ],
 "metadata": {
  "kernelspec": {
   "display_name": "Python 3",
   "language": "python",
   "name": "python3"
  },
  "language_info": {
   "codemirror_mode": {
    "name": "ipython",
    "version": 3
   },
   "file_extension": ".py",
   "mimetype": "text/x-python",
   "name": "python",
   "nbconvert_exporter": "python",
   "pygments_lexer": "ipython3",
   "version": "3.6.7"
  }
 },
 "nbformat": 4,
 "nbformat_minor": 2
}
