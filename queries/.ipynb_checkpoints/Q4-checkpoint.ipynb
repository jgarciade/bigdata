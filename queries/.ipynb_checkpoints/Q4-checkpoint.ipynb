{
 "cells": [
  {
   "cell_type": "code",
   "execution_count": 1,
   "metadata": {},
   "outputs": [],
   "source": [
    "import pandas as pd\n",
    "import json\n",
    "import numpy as np\n",
    "import collections\n",
    "from collections import defaultdict\n",
    "import itertools\n",
    "from operator import itemgetter"
   ]
  },
  {
   "cell_type": "code",
   "execution_count": 38,
   "metadata": {},
   "outputs": [
    {
     "data": {
      "text/html": [
       "<div>\n",
       "<style scoped>\n",
       "    .dataframe tbody tr th:only-of-type {\n",
       "        vertical-align: middle;\n",
       "    }\n",
       "\n",
       "    .dataframe tbody tr th {\n",
       "        vertical-align: top;\n",
       "    }\n",
       "\n",
       "    .dataframe thead th {\n",
       "        text-align: right;\n",
       "    }\n",
       "</style>\n",
       "<table border=\"1\" class=\"dataframe\">\n",
       "  <thead>\n",
       "    <tr style=\"text-align: right;\">\n",
       "      <th></th>\n",
       "      <th>Windows 7</th>\n",
       "      <th>Windows 8</th>\n",
       "      <th>Windows Desktop</th>\n",
       "      <th>Windows 10</th>\n",
       "      <th>Mac OS X</th>\n",
       "      <th>Android</th>\n",
       "      <th>Microsoft Azure</th>\n",
       "      <th>Windows Desktop</th>\n",
       "      <th>Amazon Web Services (AWS)</th>\n",
       "      <th>Windows XP</th>\n",
       "    </tr>\n",
       "  </thead>\n",
       "  <tbody>\n",
       "    <tr>\n",
       "      <th>0</th>\n",
       "      <td>11603</td>\n",
       "      <td>4589</td>\n",
       "      <td>2834</td>\n",
       "      <td>2472</td>\n",
       "      <td>1998</td>\n",
       "      <td>1701</td>\n",
       "      <td>1572</td>\n",
       "      <td>1165</td>\n",
       "      <td>1107</td>\n",
       "      <td>769</td>\n",
       "    </tr>\n",
       "  </tbody>\n",
       "</table>\n",
       "</div>"
      ],
      "text/plain": [
       "   Windows 7  Windows 8  Windows Desktop  Windows 10  Mac OS X  Android  \\\n",
       "0      11603       4589             2834        2472      1998     1701   \n",
       "\n",
       "    Microsoft Azure   Windows Desktop   Amazon Web Services (AWS)  Windows XP  \n",
       "0              1572              1165                        1107         769  "
      ]
     },
     "execution_count": 38,
     "metadata": {},
     "output_type": "execute_result"
    }
   ],
   "source": [
    "##Pregunta 4\n",
    "df=pd.read_json('clean_files/data.json')\n",
    "df1=df[['os','programming_languages']]\n",
    "df2=df1[df1['programming_languages'].str.contains('C#', regex=False, na=False)]\n",
    "df2['os'].dropna()\n",
    "splitlista=[]\n",
    "for os_list in df2['os']:\n",
    "    if os_list is None:\n",
    "        continue\n",
    "    for os in os_list:\n",
    "        splitlista.append(os)\n",
    "cuenta = collections.Counter(splitlista)\n",
    "os_total = cuenta.most_common(10)\n",
    "\n",
    "os_list = {}\n",
    "for os in os_total:\n",
    "    os_list[os[0]]=[os[1]]\n",
    "\n",
    "df=pd.DataFrame(os_list)\n",
    "df.head()"
   ]
  },
  {
   "cell_type": "code",
   "execution_count": 3,
   "metadata": {},
   "outputs": [
    {
     "data": {
      "text/html": [
       "<div>\n",
       "<style scoped>\n",
       "    .dataframe tbody tr th:only-of-type {\n",
       "        vertical-align: middle;\n",
       "    }\n",
       "\n",
       "    .dataframe tbody tr th {\n",
       "        vertical-align: top;\n",
       "    }\n",
       "\n",
       "    .dataframe thead th {\n",
       "        text-align: right;\n",
       "    }\n",
       "</style>\n",
       "<table border=\"1\" class=\"dataframe\">\n",
       "  <thead>\n",
       "    <tr style=\"text-align: right;\">\n",
       "      <th></th>\n",
       "      <th>Amazon Web Services (AWS)</th>\n",
       "      <th>Microsoft Azure</th>\n",
       "      <th>Windows Desktop</th>\n",
       "      <th>Android</th>\n",
       "      <th>Mac OS X</th>\n",
       "      <th>Windows 10</th>\n",
       "      <th>Windows 7</th>\n",
       "      <th>Windows 8</th>\n",
       "      <th>Windows Desktop</th>\n",
       "      <th>Windows XP</th>\n",
       "    </tr>\n",
       "  </thead>\n",
       "  <tbody>\n",
       "    <tr>\n",
       "      <th>0</th>\n",
       "      <td>[1107]</td>\n",
       "      <td>[1572]</td>\n",
       "      <td>[1165]</td>\n",
       "      <td>[1701]</td>\n",
       "      <td>[1998]</td>\n",
       "      <td>[2472]</td>\n",
       "      <td>[11603]</td>\n",
       "      <td>[4589]</td>\n",
       "      <td>[2834]</td>\n",
       "      <td>[769]</td>\n",
       "    </tr>\n",
       "  </tbody>\n",
       "</table>\n",
       "</div>"
      ],
      "text/plain": [
       "   Amazon Web Services (AWS)  Microsoft Azure  Windows Desktop Android  \\\n",
       "0                     [1107]           [1572]           [1165]  [1701]   \n",
       "\n",
       "  Mac OS X Windows 10 Windows 7 Windows 8 Windows Desktop Windows XP  \n",
       "0   [1998]     [2472]   [11603]    [4589]          [2834]      [769]  "
      ]
     },
     "execution_count": 3,
     "metadata": {},
     "output_type": "execute_result"
    }
   ],
   "source": [
    "from pandas.io.json import json_normalize\n",
    "json_normalize(os_list)"
   ]
  },
  {
   "cell_type": "code",
   "execution_count": 4,
   "metadata": {},
   "outputs": [],
   "source": [
    "##Pregunta 6\n",
    "df=pd.read_json('clean_files/data.json')\n",
    "df2=df[['gender','programming_languages']]\n",
    "df3=df2[df2['programming_languages'].str.contains('Python', regex=False, na=False)]\n",
    "res=df3.groupby(['gender']).count()"
   ]
  },
  {
   "cell_type": "code",
   "execution_count": 5,
   "metadata": {},
   "outputs": [],
   "source": [
    "##pregunta 7\n",
    "def count_language_from_survey(survey_path, result_path):\n",
    "    df=pd.read_json(survey_path)\n",
    "    df3=df[['satisfaction','programming_languages']]\n",
    "    df4=df3[df3['satisfaction']==1]\n",
    "    splitlista=[]\n",
    "    for i in df4['programming_languages']:\n",
    "        if i is not None:\n",
    "            for  e in i:\n",
    "                splitlista.append(e)\n",
    "    minuscula=[]\n",
    "    [minuscula.append(i.lower()) for i in splitlista]\n",
    "    lista = [row.split(',') for row in minuscula]\n",
    "    conteo=[[key, len(list(group))] for key, group in itertools.groupby(sorted(lista, key=itemgetter(0)), itemgetter(0))]\n",
    "    conteo.sort(key=lambda x: x[-1])\n",
    "    conteo= conteo[-5:][::-1]\n",
    "    result=[]\n",
    "    for language in conteo:\n",
    "        result.append({language[0]: language[1]})\n",
    "\n",
    "    with open(result_path, 'w') as outfile:\n",
    "        json.dump(result, outfile, indent=4)\n",
    "\n",
    "count_language_from_survey('clean_files/data.json', 'q7.json')"
   ]
  },
  {
   "cell_type": "code",
   "execution_count": 31,
   "metadata": {},
   "outputs": [],
   "source": [
    "#Q12\n",
    "def count_language_from_survey(survey_path, result_path):\n",
    "    df=pd.read_json(survey_path)\n",
    "    hh=df[['company_size_range','programming_languages']]\n",
    "    hh2=hh[hh['company_size_range'].str.contains('>1000', regex=False, na=False)]\n",
    "    splitlista=[]\n",
    "    for i in hh2['programming_languages']:\n",
    "        if i is not None:\n",
    "            for  e in i:\n",
    "                splitlista.append(e)\n",
    "    minuscula=[]\n",
    "    [minuscula.append(i.lower()) for i in splitlista]\n",
    "    lista = [row.split(',') for row in minuscula]\n",
    "    conteo=[[key, len(list(group))] for key, group in itertools.groupby(sorted(lista, key=itemgetter(0)), itemgetter(0))]\n",
    "    conteo.sort(key=lambda x: x[-1])\n",
    "    conteo= conteo[-5:][::-1]\n",
    "    result=[]\n",
    "    for language in conteo:\n",
    "        result.append({language[0]: language[1]})\n",
    "\n",
    "    with open(result_path, 'w') as outfile:\n",
    "        json.dump(result, outfile, indent=4)\n",
    "\n",
    "count_language_from_survey('clean_files/data.json', 'q12.json')"
   ]
  },
  {
   "cell_type": "code",
   "execution_count": 34,
   "metadata": {},
   "outputs": [],
   "source": [
    "#Q13\n",
    "def count_language_from_survey(survey_path, result_path):\n",
    "    df=pd.read_json(survey_path)\n",
    "\n",
    "    splitlista=[]\n",
    "    for i in df['programming_languages']:\n",
    "        if i is not None:\n",
    "            for  e in i:\n",
    "                splitlista.append(e)\n",
    "    minuscula=[]\n",
    "    [minuscula.append(i.lower()) for i in splitlista]\n",
    "    lista = [row.split(',') for row in minuscula]\n",
    "    conteo=[[key, len(list(group))] for key, group in itertools.groupby(sorted(lista, key=itemgetter(0)), itemgetter(0))]\n",
    "    conteo.sort(key=lambda x: x[-1])\n",
    "    conteo= conteo[-20:][::-1]\n",
    "    result=[]\n",
    "    for language in conteo:\n",
    "        result.append({language[0]: language[1]})\n",
    "\n",
    "    with open(result_path, 'w') as outfile:\n",
    "        json.dump(result, outfile, indent=4)\n",
    "        \n",
    "count_language_from_survey('clean_files/2017.json', 'q13.json')"
   ]
  },
  {
   "cell_type": "code",
   "execution_count": 37,
   "metadata": {},
   "outputs": [
    {
     "data": {
      "text/plain": [
       "3.989702359845716"
      ]
     },
     "execution_count": 37,
     "metadata": {},
     "output_type": "execute_result"
    }
   ],
   "source": [
    "#Q15\n",
    "dg= pd.read_json('clean_files/data.json.json')\n",
    "\n",
    "dg['programming_languages_lenght'] = dg['programming_languages'].apply(lambda x: len(x) if x is not None else None)\n",
    "dg['programming_languages_lenght'].mean()"
   ]
  },
  {
   "cell_type": "code",
   "execution_count": null,
   "metadata": {},
   "outputs": [],
   "source": []
  },
  {
   "cell_type": "code",
   "execution_count": 12,
   "metadata": {},
   "outputs": [
    {
     "data": {
      "text/plain": [
       "\"for os_list in df2['sala']:\\n    if os_list is None:\\n        continue\\n    for os in os_list:\\n        splitlista.append(os)\\ncuenta = collections.Counter(splitlista)\\nos_total = cuenta.most_common(10)\\n\\nos_list = {}\\nfor os in os_total:\\n    os_list[os[0]]=[os[1]]\\n\\ndf=pd.DataFrame(os_list)\\ndf.head()\\n\""
      ]
     },
     "execution_count": 12,
     "metadata": {},
     "output_type": "execute_result"
    }
   ],
   "source": [
    "#Q8\n",
    "df8=pd.read_json('clean_files/data.json')\n",
    "dh1=df8[['salary_range','programming_languages']]\n",
    "dh2=dh1[dh1['programming_languages'].str.contains('java', regex=False, na=False)]\n",
    "dh2['salary_range'].dropna()\n",
    "dh2.head()\n",
    "#splitlista=[]\n",
    "'''for os_list in df2['sala']:\n",
    "    if os_list is None:\n",
    "        continue\n",
    "    for os in os_list:\n",
    "        splitlista.append(os)\n",
    "cuenta = collections.Counter(splitlista)\n",
    "os_total = cuenta.most_common(10)\n",
    "\n",
    "os_list = {}\n",
    "for os in os_total:\n",
    "    os_list[os[0]]=[os[1]]\n",
    "\n",
    "df=pd.DataFrame(os_list)\n",
    "df.head()\n",
    "'''"
   ]
  },
  {
   "cell_type": "code",
   "execution_count": 29,
   "metadata": {},
   "outputs": [
    {
     "data": {
      "text/html": [
       "<div>\n",
       "<style scoped>\n",
       "    .dataframe tbody tr th:only-of-type {\n",
       "        vertical-align: middle;\n",
       "    }\n",
       "\n",
       "    .dataframe tbody tr th {\n",
       "        vertical-align: top;\n",
       "    }\n",
       "\n",
       "    .dataframe thead th {\n",
       "        text-align: right;\n",
       "    }\n",
       "</style>\n",
       "<table border=\"1\" class=\"dataframe\">\n",
       "  <thead>\n",
       "    <tr style=\"text-align: right;\">\n",
       "      <th></th>\n",
       "      <th>programming_languages</th>\n",
       "    </tr>\n",
       "    <tr>\n",
       "      <th>salary_range</th>\n",
       "      <th></th>\n",
       "    </tr>\n",
       "  </thead>\n",
       "  <tbody>\n",
       "    <tr>\n",
       "      <th>0-20</th>\n",
       "      <td>630</td>\n",
       "    </tr>\n",
       "    <tr>\n",
       "      <th>100-120</th>\n",
       "      <td>1409</td>\n",
       "    </tr>\n",
       "    <tr>\n",
       "      <th>120-140</th>\n",
       "      <td>1426</td>\n",
       "    </tr>\n",
       "    <tr>\n",
       "      <th>20-40</th>\n",
       "      <td>2346</td>\n",
       "    </tr>\n",
       "    <tr>\n",
       "      <th>40-60</th>\n",
       "      <td>2534</td>\n",
       "    </tr>\n",
       "    <tr>\n",
       "      <th>60-80</th>\n",
       "      <td>2347</td>\n",
       "    </tr>\n",
       "    <tr>\n",
       "      <th>80-100</th>\n",
       "      <td>1897</td>\n",
       "    </tr>\n",
       "    <tr>\n",
       "      <th>&gt;140k</th>\n",
       "      <td>3899</td>\n",
       "    </tr>\n",
       "  </tbody>\n",
       "</table>\n",
       "</div>"
      ],
      "text/plain": [
       "              programming_languages\n",
       "salary_range                       \n",
       "0-20                            630\n",
       "100-120                        1409\n",
       "120-140                        1426\n",
       "20-40                          2346\n",
       "40-60                          2534\n",
       "60-80                          2347\n",
       "80-100                         1897\n",
       ">140k                          3899"
      ]
     },
     "execution_count": 29,
     "metadata": {},
     "output_type": "execute_result"
    }
   ],
   "source": [
    "#df8=pd.read_json('clean_files/data.json')\n",
    "dh1=df8[['salary_range','programming_languages']]\n",
    "dh1.dropna()\n",
    "dh2=dh1[(dh1['programming_languages'].str.contains('Java', regex=False, na=False) | dh1['programming_languages'].str.contains('java', regex=False, na=False))]\n",
    "\n",
    "dh2['salary_range'].dropna()\n",
    "dh2.groupby(['salary_range']).count()"
   ]
  },
  {
   "cell_type": "code",
   "execution_count": null,
   "metadata": {},
   "outputs": [],
   "source": []
  },
  {
   "cell_type": "code",
   "execution_count": null,
   "metadata": {},
   "outputs": [],
   "source": []
  }
 ],
 "metadata": {
  "kernelspec": {
   "display_name": "Python 3",
   "language": "python",
   "name": "python3"
  },
  "language_info": {
   "codemirror_mode": {
    "name": "ipython",
    "version": 3
   },
   "file_extension": ".py",
   "mimetype": "text/x-python",
   "name": "python",
   "nbconvert_exporter": "python",
   "pygments_lexer": "ipython3",
   "version": "3.7.1"
  }
 },
 "nbformat": 4,
 "nbformat_minor": 2
}
