{
 "cells": [
  {
   "cell_type": "code",
   "execution_count": 18,
   "metadata": {},
   "outputs": [],
   "source": [
    "import pandas as pd\n",
    "import json\n",
    "import random\n",
    "import numpy as np\n",
    "from sklearn.linear_model import LinearRegression"
   ]
  },
  {
   "cell_type": "code",
   "execution_count": 19,
   "metadata": {},
   "outputs": [
    {
     "name": "stdout",
     "output_type": "stream",
     "text": [
      "saved 50000 registers!\n"
     ]
    }
   ],
   "source": [
    "result = []\n",
    "\n",
    "file_values = {2011: 1000, 2012: 4000, 2013: 8500, 2014: 6500, 2015: 10000, 2016: 10000, 2017: 10000}\n",
    "\n",
    "for i in range(2011, 2018):\n",
    "    with open(f'clean_files/{i}.json') as f:\n",
    "        data = json.load(f)\n",
    "        for person in random.choices(data, k=file_values.get(i)):\n",
    "            person.update({'year': i})\n",
    "            result.append(person)\n",
    "\n",
    "with open('clean_files/data-per-year.json', 'w') as outfile:\n",
    "    json.dump(result, outfile, indent=4, sort_keys=True)\n",
    "\n",
    "total_people = len(result)\n",
    "print(f'saved {total_people} registers!')"
   ]
  },
  {
   "cell_type": "markdown",
   "metadata": {},
   "source": [
    "# Mongo scripts\n",
    "\n",
    "create collection\n",
    "\n",
    "```bash\n",
    "\n",
    "mongoimport --db stackoverflow --collection dataYear --file ../queries/clean_files/data-per-year.json --jsonArray\n",
    "\n",
    "```\n",
    "\n"
   ]
  },
  {
   "cell_type": "markdown",
   "metadata": {},
   "source": [
    "Query\n",
    "\n",
    "```bash\n",
    "\n",
    "mongo --quiet stackoverflow --eval 'db.dataYear.aggregate([ {$match: {\"programming_languages\" : {$in: [\"python\",\"Python\"]} , 'gender': {$in : [\"female\", \"Female\"]}}}, {$group: {_id: \"$year\", total: {$sum: 1}}} ])' | xargs -o -I {} echo {} > punto_5.json\n",
    "\n",
    "```"
   ]
  },
  {
   "cell_type": "code",
   "execution_count": 23,
   "metadata": {},
   "outputs": [
    {
     "name": "stdout",
     "output_type": "stream",
     "text": [
      "[6.5]\n",
      "[6.5]\n"
     ]
    }
   ],
   "source": [
    "with open('punto_5.json', 'r') as f:\n",
    "    data = json.load(f)\n",
    "\n",
    "x = []\n",
    "y = []\n",
    "for d in data:\n",
    "    x.append(d.get('_id'))\n",
    "    y.append(d.get('total'))\n",
    "    \n",
    "xx = np.array(x).reshape((-1, 1))\n",
    "yy = np.array(y)\n",
    "\n",
    "model = LinearRegression()\n",
    "model.fit(xx, yy)\n",
    "model = LinearRegression().fit(xx, yy)\n",
    "\n",
    "x_new = np.arange(2018,2019).reshape((-1, 1))\n",
    "y_new = model.predict(x_new)\n",
    "print(y_new)\n",
    "\n",
    "y_new = model.predict([[2018]])\n",
    "print(y_new)"
   ]
  }
 ],
 "metadata": {
  "kernelspec": {
   "display_name": "Python 3",
   "language": "python",
   "name": "python3"
  },
  "language_info": {
   "codemirror_mode": {
    "name": "ipython",
    "version": 3
   },
   "file_extension": ".py",
   "mimetype": "text/x-python",
   "name": "python",
   "nbconvert_exporter": "python",
   "pygments_lexer": "ipython3",
   "version": "3.6.7"
  }
 },
 "nbformat": 4,
 "nbformat_minor": 2
}
