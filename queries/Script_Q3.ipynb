{
 "cells": [
  {
   "cell_type": "code",
   "execution_count": 4,
   "metadata": {},
   "outputs": [],
   "source": [
    "import pandas as pd\n",
    "import json\n",
    "import numpy as np\n",
    "import collections\n",
    "from collections import defaultdict\n",
    "import itertools\n",
    "from operator import itemgetter"
   ]
  },
  {
   "cell_type": "markdown",
   "metadata": {},
   "source": [
    "# 2011 - 2015"
   ]
  },
  {
   "cell_type": "code",
   "execution_count": 36,
   "metadata": {},
   "outputs": [],
   "source": [
    "def count_language_from_survey(survey_path, result_path):\n",
    "    df2011=pd.read_json(survey_path)\n",
    "    splitlista=[]\n",
    "    [splitlista.append(e) for i in df2011['programming_languages'] for  e in i]\n",
    "    minuscula=[]\n",
    "    [minuscula.append(i.lower()) for i in splitlista]\n",
    "    lista = [row.split(',') for row in minuscula]\n",
    "    conteo=[[str(key), len(list(group))] for key, group in itertools.groupby(sorted(lista, key=itemgetter(0)), itemgetter(0))]\n",
    "    conteo.sort(key=lambda x: x[-1])\n",
    "    conteo= conteo[-5:][::-1]\n",
    "    result=[]\n",
    "    for language in conteo:\n",
    "        result.append({language[0]: language[1]})\n",
    "        \n",
    "\n",
    "    with open(result_path, 'w') as outfile:\n",
    "        json.dump(result, outfile, indent=4)\n",
    "        \n",
    "count_language_from_survey('clean_files/2011.json', 'results_2011.json')\n",
    "count_language_from_survey('clean_files/2012.json', 'results_2012.json')\n",
    "count_language_from_survey('clean_files/2013.json', 'results_2013.json')\n",
    "count_language_from_survey('clean_files/2014.json', 'results_2014.json')\n",
    "\n",
    "count_language_from_survey('clean_files/2015.json', 'results_2015.json')\n",
    "\n"
   ]
  },
  {
   "cell_type": "markdown",
   "metadata": {},
   "source": [
    "# 2016"
   ]
  },
  {
   "cell_type": "code",
   "execution_count": 30,
   "metadata": {},
   "outputs": [],
   "source": [
    "def count_language_from_survey(survey_path, result_path):\n",
    "    df=pd.read_json(survey_path)\n",
    "\n",
    "    splitlista=[]\n",
    "    for i in df['programming_languages']:\n",
    "        if i is not None:\n",
    "            for  e in i:\n",
    "                splitlista.append(e)\n",
    "\n",
    "    splitlista\n",
    "    minuscula=[]\n",
    "    [minuscula.append(i.lower()) for i in splitlista]\n",
    "    lista = [row.split(',') for row in minuscula]\n",
    "    conteo=[[key, len(list(group))] for key, group in itertools.groupby(sorted(lista, key=itemgetter(0)), itemgetter(0))]\n",
    "    conteo.sort(key=lambda x: x[-1])\n",
    "    conteo= conteo[-5:][::-1]\n",
    "    result=[]\n",
    "    for language in conteo:\n",
    "        result.append({language[0]: language[1]})\n",
    "\n",
    "    with open(result_path, 'w') as outfile:\n",
    "        json.dump(result, outfile, indent=4)\n",
    "        \n",
    "count_language_from_survey('clean_files/2016.json', 'results_2016.json')\n",
    "count_language_from_survey('clean_files/2017.json', 'results_2017.json')"
   ]
  },
  {
   "cell_type": "code",
   "execution_count": null,
   "metadata": {},
   "outputs": [],
   "source": []
  }
 ],
 "metadata": {
  "kernelspec": {
   "display_name": "Python 3",
   "language": "python",
   "name": "python3"
  },
  "language_info": {
   "codemirror_mode": {
    "name": "ipython",
    "version": 3
   },
   "file_extension": ".py",
   "mimetype": "text/x-python",
   "name": "python",
   "nbconvert_exporter": "python",
   "pygments_lexer": "ipython3",
   "version": "3.6.7"
  }
 },
 "nbformat": 4,
 "nbformat_minor": 2
}
