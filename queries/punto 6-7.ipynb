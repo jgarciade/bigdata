{
 "cells": [
  {
   "cell_type": "code",
   "execution_count": 6,
   "metadata": {},
   "outputs": [],
   "source": [
    "import json\n",
    "import pandas as pd\n",
    "import os\n",
    "import random"
   ]
  },
  {
   "cell_type": "markdown",
   "metadata": {},
   "source": [
    "# Punto 6\n",
    "\n",
    "Genere una rutina** que permita ingresar un registro en cualquiera de las\n",
    "encuestas y que actualice todos los indicadores hacia delante."
   ]
  },
  {
   "cell_type": "code",
   "execution_count": 26,
   "metadata": {},
   "outputs": [
    {
     "data": {
      "text/plain": [
       "{'count': 745}"
      ]
     },
     "execution_count": 26,
     "metadata": {},
     "output_type": "execute_result"
    }
   ],
   "source": [
    "# Actual q10_2011 answer\n",
    "\n",
    "with open('question_answers_json/q10_2011.json', 'r') as f:\n",
    "    data = json.load(f)\n",
    "\n",
    "data"
   ]
  },
  {
   "cell_type": "code",
   "execution_count": 40,
   "metadata": {},
   "outputs": [],
   "source": [
    "year = 2011\n",
    "collection = f'survey{year}'\n",
    "new_data = {\n",
    "        \"age_range\": \"21-25\",\n",
    "        \"company_size_range\": \"1-25\",\n",
    "        \"experience_range\": \"0-2\",\n",
    "        \"gender\": \"male\",\n",
    "        \"os\": [\n",
    "            \"Linux\", \"Windows 7\"\n",
    "        ],\n",
    "        \"programming_languages\": [\n",
    "            \"Python\",\n",
    "            \"C\",\n",
    "            \"java\"\n",
    "        ],\n",
    "        \"region\": \"Germany\",\n",
    "        \"salary_range\": \">140k\",\n",
    "        \"satisfaction\": 3\n",
    "    }\n",
    "\n"
   ]
  },
  {
   "cell_type": "code",
   "execution_count": 32,
   "metadata": {},
   "outputs": [
    {
     "name": "stdout",
     "output_type": "stream",
     "text": [
      "5d0dbba55f81e53d8df75f8a\n"
     ]
    }
   ],
   "source": [
    "import pymongo\n",
    "myclient = pymongo.MongoClient(\"mongodb://localhost:27017/\")\n",
    "\n",
    "mydb = myclient[\"stackoverflow\"]\n",
    "mycol = mydb[collection]\n",
    "\n",
    "x = mycol.insert_one(new_data)\n",
    "print(x.inserted_id)"
   ]
  },
  {
   "cell_type": "code",
   "execution_count": 42,
   "metadata": {},
   "outputs": [
    {
     "name": "stderr",
     "output_type": "stream",
     "text": [
      "/home/jota/.virtualenvs/unal.bigdata/lib/python3.6/site-packages/ipykernel_launcher.py:4: DeprecationWarning: count is deprecated. Use Collection.count_documents instead.\n",
      "  after removing the cwd from sys.path.\n"
     ]
    }
   ],
   "source": [
    "myquery = {\"company_size_range\": \"1-25\"}\n",
    "\n",
    "mydoc = mycol.find(myquery)\n",
    "result = {'count': mydoc.count()}\n"
   ]
  },
  {
   "cell_type": "code",
   "execution_count": 39,
   "metadata": {},
   "outputs": [
    {
     "data": {
      "text/plain": [
       "{'count': 746}"
      ]
     },
     "execution_count": 39,
     "metadata": {},
     "output_type": "execute_result"
    }
   ],
   "source": [
    "# New q10_2011 answer\n",
    "\n",
    "with open('question_answers_json/q10_2011.json', 'w') as f:\n",
    "    data = json.dump(result, f, indent=4, sort_keys=True)\n",
    "\n",
    "with open('question_answers_json/q10_2011.json', 'r') as f:\n",
    "    data = json.load(f)\n",
    "\n",
    "data"
   ]
  },
  {
   "cell_type": "markdown",
   "metadata": {},
   "source": [
    "# Punto 7\n",
    "\n",
    "Genere una rutina que actualice un indicador y “modifique” los “datos operativos”\n",
    "y la bodega de datos de manera coherente para corresponderse con el indicador."
   ]
  },
  {
   "cell_type": "code",
   "execution_count": 45,
   "metadata": {},
   "outputs": [
    {
     "name": "stderr",
     "output_type": "stream",
     "text": [
      "/home/jota/.virtualenvs/unal.bigdata/lib/python3.6/site-packages/ipykernel_launcher.py:13: DeprecationWarning: count is deprecated. Use Collection.count_documents instead.\n",
      "  del sys.path[0]\n"
     ]
    },
    {
     "data": {
      "text/plain": [
       "{'count': 750}"
      ]
     },
     "execution_count": 45,
     "metadata": {},
     "output_type": "execute_result"
    }
   ],
   "source": [
    "# Changes a key parameter\n",
    "\n",
    "myquery = {\"programming_languages\": {\"$in\": [\"python\", \"java\"]}}\n",
    "\n",
    "mydoc = mycol.find(myquery)\n",
    "newvalues = { \"$set\": { \"company_size_range\": \"1-25\" }}\n",
    "\n",
    "mycol.update_many(myquery, newvalues)\n",
    "\n",
    "myquery = {\"company_size_range\": \"1-25\"}\n",
    "\n",
    "mydoc = mycol.find(myquery)\n",
    "result = {'count': mydoc.count()}\n",
    "\n",
    "# New q10_2011 answer\n",
    "\n",
    "with open('question_answers_json/q10_2011.json', 'w') as f:\n",
    "    data = json.dump(result, f, indent=4, sort_keys=True)\n",
    "\n",
    "with open('question_answers_json/q10_2011.json', 'r') as f:\n",
    "    data = json.load(f)\n",
    "\n",
    "data"
   ]
  }
 ],
 "metadata": {
  "kernelspec": {
   "display_name": "Python 3",
   "language": "python",
   "name": "python3"
  },
  "language_info": {
   "codemirror_mode": {
    "name": "ipython",
    "version": 3
   },
   "file_extension": ".py",
   "mimetype": "text/x-python",
   "name": "python",
   "nbconvert_exporter": "python",
   "pygments_lexer": "ipython3",
   "version": "3.6.7"
  }
 },
 "nbformat": 4,
 "nbformat_minor": 2
}
