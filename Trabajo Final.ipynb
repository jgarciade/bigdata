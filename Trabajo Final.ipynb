{
 "cells": [
  {
   "cell_type": "markdown",
   "metadata": {},
   "source": [
    "# Trabajo Final Sistemas de Bases de datos Masivos"
   ]
  },
  {
   "cell_type": "markdown",
   "metadata": {},
   "source": [
    "Con el presente trabajo pretendemos dar a conocer los resultados de    las encuestas realizadas por la comunidad de desarrolladores *Stackoverflow*, desde el año 2011 al 2017, además de una proyección de los resultados una posible encuesta en 2018.    Presentaremos desde la obtención y limpieza de los datos, pasando por    el analisis de tendencias, hasta la actualización de indicadores    mediante rutinas en diferentes herramientas que nos permiten poner en    practica los conocimientos adquiridos en la presente asignatura."
   ]
  },
  {
   "cell_type": "markdown",
   "metadata": {},
   "source": [
    "## 1. Obtención y Limpieza de los datos"
   ]
  },
  {
   "cell_type": "markdown",
   "metadata": {},
   "source": [
    "### Obtención"
   ]
  },
  {
   "cell_type": "markdown",
   "metadata": {},
   "source": [
    "Los datos se obtuvieron mediante la herramienta **BigQuery** donde se encuentran disponibles las preguntas de las encuestas como datos abiertos. En total son 7 conjuntos de datos que se guardaron en un conjunto de datos propios con el total de registros y columnas de cada año mediante la siguiente consulta:"
   ]
  },
  {
   "cell_type": "code",
   "execution_count": null,
   "metadata": {},
   "outputs": [],
   "source": [
    "CREATE TABLE `Clase2_seccion2.survey_2011` \n",
    "AS\n",
    "SELECT * FROM `fh-bigquery.stackoverflow.survey_results_2011`\n"
   ]
  },
  {
   "cell_type": "markdown",
   "metadata": {},
   "source": [
    "Para saber que tipo de preguntas habian en las encuestas se hizo la siguiente rutina de **Python** que permitia buscar campos repetidos en los 7 conjuntos de datos"
   ]
  },
  {
   "cell_type": "markdown",
   "metadata": {},
   "source": [
    "## Adjuntar rutina de mapeo de preguntas*"
   ]
  },
  {
   "cell_type": "markdown",
   "metadata": {},
   "source": [
    "De esta forma se determinaron las preguntas que van a hacer parte de la bodega de datos"
   ]
  },
  {
   "cell_type": "markdown",
   "metadata": {},
   "source": [
    "|Pregunta    | 2011 || 2012 || 2013 || 2014 || 2015 || 2016 || 2017 |\n",
    "|-------------|------||------||------||------||------||------||------|\n",
    "| Salario     |   Y  ||   Y  ||   Y  ||   Y  ||   Y  ||   Y  ||   Y  |\n",
    "| Region      |   Y  ||   Y  ||   Y  ||   Y  ||   Y  ||   Y  ||   Y  |\n",
    "| Lenguajes   |   Y  ||   Y  ||   Y  ||   Y  ||   Y  ||   Y  ||   Y  |\n",
    "| Satisfacción|   Y  ||   Y  ||   Y  ||   N  ||   Y  ||   Y  ||   Y  |\n",
    "| Género      |   N  ||   N  ||   N  ||   Y  ||   Y  ||   Y  ||   Y  |\n",
    "| Os          |   Y  ||   Y  ||   Y  ||   Y  ||   Y  ||   Y  ||   Y  |\n",
    "| Edad        |   Y  ||   Y  ||   Y  ||   Y  ||   Y  ||   Y  ||   N  |\n",
    "| Experiencia |   Y  ||   Y  ||   Y  ||   Y  ||   Y  ||   Y  ||   Y  |\n",
    "| Company Size|   Y  ||   Y  ||   Y  ||   Y  ||   N  ||   Y  ||   Y  |"
   ]
  },
  {
   "cell_type": "markdown",
   "metadata": {},
   "source": [
    "Con las preguntas ya mapeadas, en **BigQuery** se hizo el respectivo filtro de las columnas necesarias con la cantidad total de filas y se exportó la información en formatos *JSON* y *CSV*"
   ]
  },
  {
   "cell_type": "markdown",
   "metadata": {},
   "source": [
    "    SELECT \n",
    "    YearsProgram,Country,Salary,HaveWorkedLanguage,JobSatisfaction,Gender,HaveWorkedPlatform,companySize\n",
    "    FROM `clase1-seccion2.Clase2_seccion2.survey_2017`"
   ]
  },
  {
   "cell_type": "markdown",
   "metadata": {},
   "source": [
    "### Limpieza"
   ]
  },
  {
   "cell_type": "markdown",
   "metadata": {},
   "source": [
    "Para la limpieza se uso una rutina en **Python** tomando los archivos en formato *JSON*"
   ]
  },
  {
   "cell_type": "markdown",
   "metadata": {},
   "source": [
    "## Adjuntar rutinas **"
   ]
  },
  {
   "cell_type": "markdown",
   "metadata": {},
   "source": [
    "Mediante las anteriores rutinas se generan nuevos archivos *JSON* que harán parte de la bodega de datos"
   ]
  },
  {
   "cell_type": "markdown",
   "metadata": {},
   "source": [
    "# 2. Bodega de Datos"
   ]
  },
  {
   "cell_type": "markdown",
   "metadata": {},
   "source": [
    "Con los 7 conjuntos de datos y el conjunto adicional que contiene todos los años anteriores, se crea la bodega de datos en **MongoDB**"
   ]
  },
  {
   "cell_type": "markdown",
   "metadata": {},
   "source": [
    " ![alt text](C/Documents/bodega.png)"
   ]
  },
  {
   "cell_type": "markdown",
   "metadata": {},
   "source": [
    "Se genera la bodega de datos mediante las siguientes lineas de código"
   ]
  },
  {
   "cell_type": "markdown",
   "metadata": {},
   "source": [
    "# Adjuntar linea de codigo**"
   ]
  },
  {
   "cell_type": "markdown",
   "metadata": {},
   "source": [
    "Mediante la bodega de datos podemos responder las siguientes preguntas:"
   ]
  },
  {
   "cell_type": "markdown",
   "metadata": {},
   "source": [
    "1. Cuál es la edad de los programadores senior en Alemania?"
   ]
  },
  {
   "cell_type": "markdown",
   "metadata": {},
   "source": [
    "Se considera senior un ingeniero que tenga al menos seis años de experiencia\n"
   ]
  },
  {
   "cell_type": "code",
   "execution_count": null,
   "metadata": {},
   "outputs": [],
   "source": [
    "db.data.aggregate([ {$match: {\"experience_range\" : {$in: [\"6-10\",\"10-15\",\"15-20\", \"20-90\"]} , 'region': 'Germany'}}, {$group: { _id: '$age_range' }} ])"
   ]
  },
  {
   "cell_type": "code",
   "execution_count": null,
   "metadata": {},
   "outputs": [],
   "source": [
    "##Espacio para gráfica..."
   ]
  },
  {
   "cell_type": "markdown",
   "metadata": {},
   "source": [
    "2. Cuáles son los 5 paises que mas tienen programadores?"
   ]
  },
  {
   "cell_type": "markdown",
   "metadata": {},
   "source": [
    "    db.data.aggregate([\n",
    "        {$group: {_id: '$region', total: {$sum: 1}}},\n",
    "        {$sort: {'total':-1}},\n",
    "        {$limit: 6}\n",
    "    ])"
   ]
  },
  {
   "cell_type": "code",
   "execution_count": 7,
   "metadata": {},
   "outputs": [],
   "source": [
    "#Espacio para gráfica...."
   ]
  },
  {
   "cell_type": "markdown",
   "metadata": {},
   "source": [
    "3. Cuál es el Top de los 5 lenguajes más populares por año?"
   ]
  },
  {
   "cell_type": "code",
   "execution_count": null,
   "metadata": {},
   "outputs": [],
   "source": [
    "#Adjuntar script 3 "
   ]
  },
  {
   "cell_type": "code",
   "execution_count": 8,
   "metadata": {},
   "outputs": [],
   "source": [
    "#Espacio para gráfica"
   ]
  },
  {
   "cell_type": "markdown",
   "metadata": {},
   "source": [
    "4. Cuál es el sistema operativo que usan los programadores de C#?"
   ]
  },
  {
   "cell_type": "markdown",
   "metadata": {},
   "source": [
    "    df=pd.read_json('clean_files/data.json')\n",
    "    df1=df[['os','programming_languages']]\n",
    "    df2=df1[df1['programming_languages'].str.contains('C#', regex=False, na=False)]\n",
    "    df2.dropna()\n",
    "    splitlista=[]\n",
    "    for i in df2['os']:\n",
    "        if i is not None:\n",
    "            for  e in i:\n",
    "                splitlista.append(e)\n",
    "    cuenta = collections.Counter(splitlista)\n",
    "    print(cuenta.most_common(10))"
   ]
  },
  {
   "cell_type": "code",
   "execution_count": 9,
   "metadata": {},
   "outputs": [],
   "source": [
    "#Espacio para gráficar"
   ]
  },
  {
   "cell_type": "markdown",
   "metadata": {},
   "source": [
    "5. Cuál es el rango de edad de los programadores junior?"
   ]
  },
  {
   "cell_type": "markdown",
   "metadata": {},
   "source": [
    "    db.data.aggregate([ {$match: {\"experience_range\" : {$in: [\"0-2\"]} }}, {$group: { _id: '$age_range' }} ])"
   ]
  },
  {
   "cell_type": "code",
   "execution_count": 10,
   "metadata": {},
   "outputs": [],
   "source": [
    "#Espacio para gráfica"
   ]
  },
  {
   "cell_type": "markdown",
   "metadata": {},
   "source": [
    "6. Cuantas mujeres programan en python?"
   ]
  },
  {
   "cell_type": "markdown",
   "metadata": {},
   "source": [
    "    db.data.find({\"programming_languages\" : {$in: [\"python\", \"Python\"]}, 'gender': {$in: ['Female', 'female']}}).count()"
   ]
  },
  {
   "cell_type": "code",
   "execution_count": 11,
   "metadata": {},
   "outputs": [],
   "source": [
    "#Espacio para gráfica"
   ]
  },
  {
   "cell_type": "markdown",
   "metadata": {},
   "source": [
    "7. En qué lenguajes se sienten más insatisfechos los programadores?"
   ]
  },
  {
   "cell_type": "code",
   "execution_count": null,
   "metadata": {},
   "outputs": [],
   "source": [
    "df2=df[['satisfaction','programming_languages']]\n",
    "df3=df2[df2['satisfaction']==1]\n",
    "splitlista=[]\n",
    "for i in df3['programming_languages']:\n",
    "    if i is not None:\n",
    "        for  e in i:\n",
    "            splitlista.append(e)\n",
    "\n",
    "splitlista\n",
    "minuscula=[]\n",
    "[minuscula.append(i.lower()) for i in splitlista]\n",
    "lista = [row.split(',') for row in minuscula]\n",
    "lista\n",
    "import itertools\n",
    "from operator import itemgetter\n",
    "conteo=[[key, len(list(group))] for key, group in itertools.groupby(sorted(lista, key=itemgetter(0)), itemgetter(0))]\n",
    "conteo.sort(key=lambda x: x[-1])\n",
    "print (conteo[-5:])"
   ]
  },
  {
   "cell_type": "code",
   "execution_count": 13,
   "metadata": {},
   "outputs": [],
   "source": [
    "#Espacio para gráfica"
   ]
  },
  {
   "cell_type": "markdown",
   "metadata": {},
   "source": [
    "8. Cuál es el rango de salario de los programadores de Java?"
   ]
  },
  {
   "cell_type": "markdown",
   "metadata": {},
   "source": [
    "9. Definir..."
   ]
  },
  {
   "cell_type": "markdown",
   "metadata": {},
   "source": [
    "10. Cuántas personas trabajaban en Start up en 2017?"
   ]
  },
  {
   "cell_type": "markdown",
   "metadata": {},
   "source": [
    "Se asume que una startup tiene menos de 25 empleados"
   ]
  },
  {
   "cell_type": "markdown",
   "metadata": {},
   "source": [
    "    db.survey2017.find({'company_size_range': '1-25'}).count()"
   ]
  },
  {
   "cell_type": "code",
   "execution_count": null,
   "metadata": {},
   "outputs": [],
   "source": [
    "#Espacio para gráfica"
   ]
  },
  {
   "cell_type": "markdown",
   "metadata": {},
   "source": [
    "11. Evolución del número de programadores por tamaño de la compañia"
   ]
  },
  {
   "cell_type": "markdown",
   "metadata": {},
   "source": [
    "     var s11 = db.survey2011.aggregate([ {$group: {_id: '$company_size_range', total: {$sum: 1}}} ])\n",
    "     var s12 = db.survey2012.aggregate([ {$group: {_id: '$company_size_range', total: {$sum: 1}}} ])\n",
    "     var s13 = db.survey2013.aggregate([ {$group: {_id: '$company_size_range', total: {$sum: 1}}} ])\n",
    "     var s14 = db.survey2014.aggregate([ {$group: {_id: '$company_size_range', total: {$sum: 1}}} ])\n",
    "     var s15 = db.survey2015.aggregate([ {$group: {_id: '$company_size_range', total: {$sum: 1}}} ])\n",
    "     var s16 = db.survey2016.aggregate([ {$group: {_id: '$company_size_range', total: {$sum: 1}}} ])\n",
    "     var s17 = db.survey2017.aggregate([ {$group: {_id: '$company_size_range', total: {$sum: 1}}} ])"
   ]
  },
  {
   "cell_type": "code",
   "execution_count": 15,
   "metadata": {},
   "outputs": [],
   "source": [
    "#Espacio para gráfica"
   ]
  },
  {
   "cell_type": "markdown",
   "metadata": {},
   "source": [
    "12. Cuál es el lenguaje que utilizan las grandes compañias?"
   ]
  },
  {
   "cell_type": "markdown",
   "metadata": {},
   "source": [
    "13. Numero de programadores por lenguaje en 2017"
   ]
  },
  {
   "cell_type": "markdown",
   "metadata": {},
   "source": [
    "14. En que pais se paga mejor por programar en python?"
   ]
  },
  {
   "cell_type": "markdown",
   "metadata": {},
   "source": [
    "    db.data.aggregate([ {$match: {'programming_languages': {$in: ['Python', 'python']}, 'salary_range': '>140k'}}, {$group: {_id: '$region'}}])"
   ]
  },
  {
   "cell_type": "code",
   "execution_count": 17,
   "metadata": {},
   "outputs": [],
   "source": [
    "#Espacio para gráfica"
   ]
  },
  {
   "cell_type": "markdown",
   "metadata": {},
   "source": [
    "15. Cual es el promedio de lenguajes que los programadores han utilizado?"
   ]
  },
  {
   "cell_type": "code",
   "execution_count": null,
   "metadata": {},
   "outputs": [],
   "source": [
    "import pandas as pd\n",
    "import numpy as np\n",
    "\n",
    "df = pd.read_json('queries/clean_files/data.json')\n",
    "\n",
    "df['programming_languages_lenght'] = df['programming_languages'].apply(lambda x: len(x) if x is not None else None)\n",
    "df['programming_languages_lenght'].mean()"
   ]
  },
  {
   "cell_type": "code",
   "execution_count": null,
   "metadata": {},
   "outputs": [],
   "source": [
    "#Espacio para gráfica"
   ]
  }
 ],
 "metadata": {
  "kernelspec": {
   "display_name": "Python 3",
   "language": "python",
   "name": "python3"
  },
  "language_info": {
   "codemirror_mode": {
    "name": "ipython",
    "version": 3
   },
   "file_extension": ".py",
   "mimetype": "text/x-python",
   "name": "python",
   "nbconvert_exporter": "python",
   "pygments_lexer": "ipython3",
   "version": "3.7.1"
  }
 },
 "nbformat": 4,
 "nbformat_minor": 2
}
