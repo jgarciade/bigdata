{
 "cells": [
  {
   "cell_type": "markdown",
   "metadata": {},
   "source": [
    "# Trabajo Final Sistemas de Bases de datos Masivos"
   ]
  },
  {
   "cell_type": "markdown",
   "metadata": {},
   "source": [
    "Con el presente trabajo pretendemos dar a conocer los resultados de    las encuestas realizadas por la comunidad de desarrolladores *Stackoverflow*, desde el año 2011 al 2017, además de una proyección de los resultados una posible encuesta en 2018.    Presentaremos desde la obtención y limpieza de los datos, pasando por    el analisis de tendencias, hasta la actualización de indicadores    mediante rutinas en diferentes herramientas que nos permiten poner en    practica los conocimientos adquiridos en la presente asignatura."
   ]
  },
  {
   "cell_type": "markdown",
   "metadata": {},
   "source": [
    "## 1. Obtención y Limpieza de los datos"
   ]
  },
  {
   "cell_type": "markdown",
   "metadata": {},
   "source": [
    "### Obtención"
   ]
  },
  {
   "cell_type": "markdown",
   "metadata": {},
   "source": [
    "Los datos se obtuvieron mediante la herramienta **BigQuery** donde se encuentran disponibles las preguntas de las encuestas como datos abiertos. En total son 7 conjuntos de datos que se guardaron en un conjunto de datos propios con el total de registros y columnas de cada año mediante la siguiente consulta:"
   ]
  },
  {
   "cell_type": "code",
   "execution_count": null,
   "metadata": {},
   "outputs": [],
   "source": [
    "CREATE TABLE `Clase2_seccion2.survey_2011` \n",
    "AS\n",
    "SELECT * FROM `fh-bigquery.stackoverflow.survey_results_2011`\n"
   ]
  },
  {
   "cell_type": "markdown",
   "metadata": {},
   "source": [
    "De cada conjunto de datos se extrajo un limite de 100 registros para mapear las preguntas mediante archivos csv.\n",
    "\n",
    "Para saber que tipo de preguntas habian en las encuestas se hizo la siguiente rutina de **Python** que permitia buscar campos repetidos en los 7 conjuntos de datos"
   ]
  },
  {
   "cell_type": "code",
   "execution_count": null,
   "metadata": {},
   "outputs": [],
   "source": [
    "archivos = ['2011.csv', '2013.csv', '2015.csv', '2012.csv', '2014.csv','2016.csv','2017.csv']\n",
    "for m in archivos: \n",
    "    print('-----') \n",
    "    print(m) \n",
    "    aa = pd.read_csv(m, sep=',', encoding='latin')\n",
    "    print(aa.columns.values) \n",
    "    print('\\n')"
   ]
  },
  {
   "cell_type": "markdown",
   "metadata": {},
   "source": [
    "De esta forma se determinaron las preguntas que van a hacer parte de la bodega de datos"
   ]
  },
  {
   "cell_type": "markdown",
   "metadata": {},
   "source": [
    "| Pregunta      |2011  || 2012 || 2013 || 2014 || 2015 || 2016 || 2017 |\n",
    "| ------------- |------||------||------||------||------||------||------|\n",
    "| Salario       |   Y  ||   Y  ||   Y  ||   Y  ||   Y  ||   Y  ||   Y  |\n",
    "| Region        |   Y  ||   Y  ||   Y  ||   Y  ||   Y  ||   Y  ||   Y  |\n",
    "| Lenguajes     |   Y  ||   Y  ||   Y  ||   Y  ||   Y  ||   Y  ||   Y  |\n",
    "| Satisfacción  |   Y  ||   Y  ||   Y  ||   N  ||   Y  ||   Y  ||   Y  |\n",
    "| Género        |   N  ||   N  ||   N  ||   Y  ||   Y  ||   Y  ||   Y  |\n",
    "| Os            |   Y  ||   Y  ||   Y  ||   Y  ||   Y  ||   Y  ||   Y  |\n",
    "| Edad          |   Y  ||   Y  ||   Y  ||   Y  ||   Y  ||   Y  ||   N  |\n",
    "| Experiencia   |   Y  ||   Y  ||   Y  ||   Y  ||   Y  ||   Y  ||   Y  |\n",
    "| Company Size  |   Y  ||   Y  ||   Y  ||   Y  ||   N  ||   Y  ||   Y  |"
   ]
  },
  {
   "cell_type": "markdown",
   "metadata": {},
   "source": [
    "Con las preguntas ya mapeadas, en **BigQuery** se hizo el respectivo filtro de las columnas necesarias con la cantidad total de filas y se exportó la información en formatos *JSON* y *CSV*"
   ]
  },
  {
   "cell_type": "markdown",
   "metadata": {},
   "source": [
    "    SELECT \n",
    "    YearsProgram,Country,Salary,HaveWorkedLanguage,JobSatisfaction,Gender,HaveWorkedPlatform,companySize\n",
    "    FROM `clase1-seccion2.Clase2_seccion2.survey_2017`"
   ]
  },
  {
   "cell_type": "markdown",
   "metadata": {},
   "source": [
    "### Limpieza"
   ]
  },
  {
   "cell_type": "markdown",
   "metadata": {},
   "source": [
    "Para la limpieza se generaron reglas que permitieran estandarizar todos los años como definir el rango de edad, salario, tamaño de la compañia, experiencia. El campo satisfacción de las encuestas es un campo subjetivo, por lo que se decidió darle un número 1 a 5 siendo 5 la mejor satisfacción y 1 la peor. El campo Lenguajes es una lista concatenada por comas de todas las respuestas que aparecian en las encuestas como columnas:\n",
    "\n"
   ]
  },
  {
   "cell_type": "markdown",
   "metadata": {},
   "source": [
    "Age Range: [0, 20] [21, 25] [26, 30] [31, 40] [41, 50] [>50]\n",
    "Experience Range: [0, 2] [3, 5] [6, 10] [10, 15] [15, 20] [20, 90]\n",
    "Salary Range: [<20k] [20k, 40k] [40k, 60k] [60k, 80k] [80k, 100k] [100k, 120k] [120k, 140k] [>140k]\n",
    "company size: [1, 25] [26, 100] [101, 1000] [>1000]\n",
    "Satisfaction: Subjetive\n",
    "    2011 --> {enjoy: 5, hurts: 4, not happy: 1, bills: 3}\n",
    "    2012 --> {love: 5, enjoy: 4, hate: 1, not happy: 2, paycheck: 3, wish a job: None}\n",
    "    2013 --> {love: 5, enjoy: 4, hate: 1, not happy: 2, paycheck: 3, wish a job: None}\n",
    "    2015 --> {love: 5, I'm somewhat satisfied with my job: 4, hate: 1, I'm somewhat dissatisfied with my job: 2, I'm neither satisfied nor dissatisfied with my job: 3, Other: None}\n",
    "    2016 --> {love: 5, I'm somewhat satisfied with my job: 4, hate: 1, I'm somewhat dissatisfied with my job: 2, I'm neither satisfied nor dissatisfied with my job: 3, Other: None, I don't have a job: None}\n",
    "    2011 --> [nan, 7., 8., 5., 9., 6., 2., 10., 0., 4., 3., 1.]"
   ]
  },
  {
   "cell_type": "markdown",
   "metadata": {},
   "source": [
    "Para la limpieza se generó una clase en **Python**, la rutina de limpieza la puedes encontrar en este [link](https://github.com/jgarciade/bigdata/blob/master/queries/Data%20Clean%20Routines.ipynb)"
   ]
  },
  {
   "cell_type": "code",
   "execution_count": null,
   "metadata": {},
   "outputs": [],
   "source": []
  },
  {
   "cell_type": "code",
   "execution_count": null,
   "metadata": {},
   "outputs": [],
   "source": [
    "import json\n",
    "import re\n",
    "_STRING_BASE_NAME = 'string_field_'\n",
    "\n",
    "'''\n",
    "2011 data type\n",
    "\n",
    "[\n",
    "  {\n",
    "    \"string_field_0\": \"United States of America\",\n",
    "    \"string_field_2\": \"40-50\",\n",
    "    \"string_field_3\": \"11\",\n",
    "    \"string_field_45\": \">$140,000\",\n",
    "    \"string_field_30\": null,\n",
    "    \"string_field_31\": null,\n",
    "    \"string_field_32\": null,\n",
    "    \"string_field_33\": null,\n",
    "    \"string_field_34\": \"Python\",\n",
    "    \"string_field_35\": null,\n",
    "    \"string_field_36\": null,\n",
    "    \"string_field_37\": null,\n",
    "    \"string_field_38\": null,\n",
    "    \"string_field_39\": \"C\",\n",
    "    \"string_field_40\": null,\n",
    "    \"string_field_41\": null,\n",
    "    \"string_field_42\": null,\n",
    "    \"string_field_44\": \"I enjoy going to work\",\n",
    "    \"string_field_43\": \"Linux\",\n",
    "    \"string_field_5\": \"Fortune 1000 (1,000+)\"\n",
    "  }\n",
    "]\n",
    "\n",
    "'''\n",
    "\n",
    "\n",
    "class Cleaner():\n",
    "    '''\n",
    "    cleans data from JSON files to fit business logic\n",
    "    '''\n",
    "    _salary_ranges = {\n",
    "        1: [0, 20],\n",
    "        2: [20, 40],\n",
    "        3: [40, 60],\n",
    "        4: [60, 80],\n",
    "        5: [80, 100],\n",
    "        6: [100, 120],\n",
    "        7: [120, 140]\n",
    "    }\n",
    "\n",
    "    _company_size_range = {\n",
    "        1: [1, 25],\n",
    "        2: [26, 100],\n",
    "        3: [101, 1000]\n",
    "    }\n",
    "\n",
    "    _age_range = {\n",
    "        1: [0, 20],\n",
    "        2: [21, 25],\n",
    "        3: [26, 30],\n",
    "        4: [31, 40],\n",
    "        5: [41, 50]\n",
    "    }\n",
    "\n",
    "    _experience_range = {\n",
    "        1: [0, 2],\n",
    "        2: [3, 5],\n",
    "        3: [6, 10],\n",
    "        4: [10, 15],\n",
    "        5: [15, 20],\n",
    "        6: [20, 90]\n",
    "    }\n",
    "\n",
    "    def __init__(self, data_fields, satisfaction_map, path_to_file):\n",
    "        '''\n",
    "        @data_fields: { age': 2, 'experience': 3, 'region': 0, 'salary': 100,\n",
    "                        'programming_languages': [56, 69], 'satisfaction': 99,\n",
    "                        'gender': None, 'os': 81, 'company_size': 5\n",
    "                      }\n",
    "        @satisfaction_map: {enjoy: 5, hurts: 4, not happy: 1, bills: 3}\n",
    "        @path_to_file: /path\n",
    "        '''\n",
    "        self._data_fields = data_fields\n",
    "        self._satisfaction_map = satisfaction_map\n",
    "        self._path_to_file = path_to_file\n",
    "        self._raw_data = None\n",
    "\n",
    "    def _read_file(self):\n",
    "        with open(self._path_to_file) as f:\n",
    "            self._raw_data = json.load(f)\n",
    "\n",
    "    def _create_list_from_field(self, data, field):\n",
    "        result = []\n",
    "        pl_indexes = self._data_fields.get(field)\n",
    "        if len(pl_indexes) == 1:\n",
    "            value = data.get(f'{_STRING_BASE_NAME}{pl_indexes[0]}')\n",
    "            is_valid = self._is_valid_value(value)\n",
    "            if not is_valid:\n",
    "                value = None\n",
    "            result.append(value)\n",
    "            return result\n",
    "\n",
    "        for i in range(pl_indexes[0], pl_indexes[1] + 1):\n",
    "            value = data.get(f'{_STRING_BASE_NAME}{i}')\n",
    "            is_valid = self._is_valid_value(value)\n",
    "\n",
    "            if value is not None and is_valid:\n",
    "                result.append(value)\n",
    "\n",
    "        return result\n",
    "\n",
    "    def _extract_programming_languages(self, data):\n",
    "        return self._create_list_from_field(data, 'programming_languages')\n",
    "\n",
    "    def _extract_os(self, data):\n",
    "        return self._create_list_from_field(data, 'os')\n",
    "\n",
    "    def _extract_upper_limit_num_from_string(self, value):\n",
    "        # Extracts the max raw salary value\n",
    "        value = value.replace(',', '')\n",
    "        number = re.findall(r'\\d+', value)\n",
    "        if len(number) == 0:\n",
    "            return None\n",
    "        number = number[-1:][0]\n",
    "        number = float(number)\n",
    "\n",
    "        return number\n",
    "\n",
    "    def _get_satisfaction(self, data):\n",
    "        field = self._data_fields.get('satisfaction')\n",
    "        satisfaction_answer = data.get(f'{_STRING_BASE_NAME}{field}')\n",
    "        is_valid = self._is_valid_value(satisfaction_answer)\n",
    "        if satisfaction_answer is None or not is_valid:\n",
    "            return None\n",
    "\n",
    "        for (key, value) in self._satisfaction_map.items():\n",
    "            if key in satisfaction_answer:\n",
    "                return value\n",
    "\n",
    "        return None\n",
    "\n",
    "    def _extract_range_operator(self, value):\n",
    "        if value is None:\n",
    "            return value\n",
    "        salary_operator = value[:1]\n",
    "        if salary_operator != '>' and salary_operator != '<':\n",
    "            salary_operator = None\n",
    "        return salary_operator\n",
    "\n",
    "    def _extract_raw_number_from_range(self, value):\n",
    "        range_operator = self._extract_range_operator(value)\n",
    "\n",
    "        raw_number = self._extract_upper_limit_num_from_string(value)\n",
    "        if raw_number is None:\n",
    "            return None\n",
    "\n",
    "        if range_operator == '>':\n",
    "            raw_number += 1\n",
    "        elif range_operator == '<':\n",
    "            raw_number -= 1\n",
    "\n",
    "        return raw_number\n",
    "\n",
    "    def _get_salary_range(self, data):\n",
    "        field = self._data_fields.get('salary')\n",
    "        value = data.get(f'{_STRING_BASE_NAME}{field}')\n",
    "        is_valid = self._is_valid_value(value)\n",
    "        if value is None or not is_valid:\n",
    "            return None\n",
    "\n",
    "        salary = self._extract_raw_number_from_range(value)\n",
    "        if salary is None:\n",
    "            return None\n",
    "\n",
    "        salary_range = '>140k'\n",
    "        salary /= 1000\n",
    "\n",
    "        for ran in self._salary_ranges.values():\n",
    "            if salary in range(ran[0], ran[1] + 1):\n",
    "                salary_range = f'{ran[0]}-{ran[1]}'\n",
    "        return salary_range\n",
    "\n",
    "    def _get_company_size_range(self, data):\n",
    "        field = self._data_fields.get('company_size')\n",
    "        value = data.get(f'{_STRING_BASE_NAME}{field}')\n",
    "\n",
    "        is_valid = self._is_valid_value(value)\n",
    "        if value is None or not is_valid or '/' in value:\n",
    "            return None\n",
    "\n",
    "        value = self._extract_raw_number_from_range(value)\n",
    "\n",
    "        if value is None:\n",
    "            return None\n",
    "\n",
    "        company_size_range = '>1000'\n",
    "        for ran in self._company_size_range.values():\n",
    "            if value in range(ran[0], ran[1] + 1):\n",
    "                company_size_range = f'{ran[0]}-{ran[1]}'\n",
    "        return company_size_range\n",
    "\n",
    "    def _get_age_range(self, data):\n",
    "        field = self._data_fields.get('age')\n",
    "        value = data.get(f'{_STRING_BASE_NAME}{field}')\n",
    "        is_valid = self._is_valid_value(value)\n",
    "        if value is None or not is_valid:\n",
    "            return None\n",
    "\n",
    "        age_range = '>50'\n",
    "        age = self._extract_raw_number_from_range(value)\n",
    "        if age is None:\n",
    "            return None\n",
    "\n",
    "        for ran in self._age_range.values():\n",
    "            if age in range(ran[0], ran[1] + 1):\n",
    "                age_range = f'{ran[0]}-{ran[1]}'\n",
    "        return age_range\n",
    "\n",
    "    def _get_experience_range(self, data):\n",
    "        field = self._data_fields.get('experience')\n",
    "        value = data.get(f'{_STRING_BASE_NAME}{field}')\n",
    "        is_valid = self._is_valid_value(value)\n",
    "        if value is None or not is_valid:\n",
    "            return None\n",
    "\n",
    "        experience_range = None\n",
    "        experience = self._extract_raw_number_from_range(value)\n",
    "        if experience is None:\n",
    "            return None\n",
    "\n",
    "        for ran in self._experience_range.values():\n",
    "            if experience in range(ran[0], ran[1] + 1):\n",
    "                experience_range = f'{ran[0]}-{ran[1]}'\n",
    "        return experience_range\n",
    "\n",
    "    def _get_raw_value_from_data(self, data, key):\n",
    "        key_index = self._data_fields.get(key, None)\n",
    "        if key_index is None:\n",
    "            return None\n",
    "\n",
    "        value = data.get(f'{_STRING_BASE_NAME}{key_index}')\n",
    "        is_valid = self._is_valid_value(value)\n",
    "        if not is_valid:\n",
    "            value = None\n",
    "        return value\n",
    "\n",
    "    def _is_valid_value(self, value):\n",
    "        if value is None:\n",
    "            return False\n",
    "        is_valid = True\n",
    "        is_valid = is_valid and ('?' not in value)\n",
    "        is_valid = is_valid and ('please' not in value.lower())\n",
    "        is_valid = is_valid and ('response' not in value.lower())\n",
    "\n",
    "        return is_valid\n",
    "\n",
    "    def _extract_values(self):\n",
    "        self._read_file()\n",
    "        results = []\n",
    "        for data in self._raw_data:\n",
    "            fields = {}\n",
    "            fields.update({'programming_languages': self._extract_programming_languages(data)})\n",
    "            fields.update({'os': self._extract_os(data)})\n",
    "            fields.update({'salary_range': self._get_salary_range(data)})\n",
    "            fields.update({'satisfaction': self._get_satisfaction(data)})\n",
    "            fields.update({'company_size_range': self._get_company_size_range(data)})\n",
    "            fields.update({'age_range': self._get_age_range(data)})\n",
    "            fields.update({'experience_range': self._get_experience_range(data)})\n",
    "            fields.update({'gender': self._get_raw_value_from_data(data, 'gender')})\n",
    "            fields.update({'region': self._get_raw_value_from_data(data, 'region')})\n",
    "            fields.update({'gender': self._get_raw_value_from_data(data, 'gender')})\n",
    "            results.append(fields)\n",
    "        return results\n",
    "\n",
    "    def clean_and_save(self, file_path_to_save):\n",
    "        results = self._extract_values()\n",
    "        with open(file_path_to_save, 'w') as outfile:\n",
    "            json.dump(results, outfile, indent=4, sort_keys=True)\n",
    "\n",
    "kwargs = {'data_fields': {'age': 1, 'experience': 4, 'region': 0, 'salary': 105,\n",
    "                          'programming_languages': [8, 50], 'satisfaction':109,\n",
    "                          'gender': 2, 'os': [6], 'company_size': None},\n",
    "            'satisfaction_map': {'Love': 5, 'somewhat satisfied': 4, 'Hate': 1, 'somewhat dissatisfied': 2,'neither': 3, 'Other': None},\n",
    "            'path_to_file': 'raw_data/2015.json'\n",
    "            }\n",
    "cleaner = Cleaner(**kwargs)\n",
    "cleaner.clean_and_save('clean_files/2015.json')"
   ]
  },
  {
   "cell_type": "markdown",
   "metadata": {},
   "source": [
    "Mediante las anteriores rutinas se generan nuevos archivos *JSON* que harán parte de la bodega de datos"
   ]
  },
  {
   "cell_type": "markdown",
   "metadata": {},
   "source": [
    "# 2. Bodega de Datos"
   ]
  },
  {
   "cell_type": "markdown",
   "metadata": {},
   "source": [
    "Con los 7 conjuntos de datos y el conjunto adicional que contiene todos los años anteriores, se crea la bodega de datos en **MongoDB**"
   ]
  },
  {
   "cell_type": "markdown",
   "metadata": {},
   "source": [
    "<img src='https://github.com/jgarciade/bigdata/blob/master/images/bodega.PNG'/>"
   ]
  },
  {
   "cell_type": "markdown",
   "metadata": {},
   "source": [
    "Se genera la bodega de datos mediante las siguientes lineas de código"
   ]
  },
  {
   "cell_type": "markdown",
   "metadata": {},
   "source": []
  },
  {
   "cell_type": "markdown",
   "metadata": {},
   "source": [
    "Mediante la bodega de datos podemos responder las siguientes preguntas:"
   ]
  },
  {
   "cell_type": "markdown",
   "metadata": {},
   "source": [
    "1. Cuál es la edad de los programadores senior en Alemania?"
   ]
  },
  {
   "cell_type": "markdown",
   "metadata": {},
   "source": [
    "2. Cuáles son los 5 paises que mas tienen programadores?"
   ]
  },
  {
   "cell_type": "markdown",
   "metadata": {},
   "source": [
    "3. Cuál es el Top de los 5 lenguajes más populares por año?"
   ]
  },
  {
   "cell_type": "markdown",
   "metadata": {},
   "source": [
    "4. Cuál es el sistema operativo que usan los programadores de C#?"
   ]
  },
  {
   "cell_type": "markdown",
   "metadata": {},
   "source": [
    "5. Cuál es el rango de edad de los programadores junior?"
   ]
  },
  {
   "cell_type": "markdown",
   "metadata": {},
   "source": [
    "6. Cuantas mujeres programan en Python, Javascript y Sql?"
   ]
  },
  {
   "cell_type": "markdown",
   "metadata": {},
   "source": [
    "7. En qué lenguajes se sienten más insatisfechos los programadores?"
   ]
  },
  {
   "cell_type": "markdown",
   "metadata": {},
   "source": [
    "8. Cuál es el rango de salario de los programadores de Java?"
   ]
  },
  {
   "cell_type": "markdown",
   "metadata": {},
   "source": [
    "9. Cuántos hombres programan en Python,Javascript y Sql?"
   ]
  },
  {
   "cell_type": "markdown",
   "metadata": {},
   "source": [
    "10. Cuántas personas trabajaban en Start up en 2017?"
   ]
  },
  {
   "cell_type": "markdown",
   "metadata": {},
   "source": [
    "11. número de programadores por tamaño de la compañia en 2011"
   ]
  },
  {
   "cell_type": "markdown",
   "metadata": {},
   "source": [
    "12. Cuál es el lenguaje que utilizan las grandes compañias?"
   ]
  },
  {
   "cell_type": "markdown",
   "metadata": {},
   "source": [
    "13. Numero de programadores por lenguaje en 2017"
   ]
  },
  {
   "cell_type": "markdown",
   "metadata": {},
   "source": [
    "14. En que pais se paga mejor por programar en python?"
   ]
  },
  {
   "cell_type": "markdown",
   "metadata": {},
   "source": [
    "15. Cual es el promedio de lenguajes que los programadores han utilizado?"
   ]
  },
  {
   "cell_type": "code",
   "execution_count": 16,
   "metadata": {},
   "outputs": [
    {
     "data": {
      "text/plain": [
       "<matplotlib.axes._subplots.AxesSubplot at 0x1965cb54b38>"
      ]
     },
     "execution_count": 16,
     "metadata": {},
     "output_type": "execute_result"
    },
    {
     "data": {
      "image/png": "[encoded data removed]",
      "text/plain": [
       "<Figure size 432x288 with 1 Axes>"
      ]
     },
     "metadata": {
      "needs_background": "light"
     },
     "output_type": "display_data"
    }
   ],
   "source": [
    "import pandas as pd\n",
    "import numpy as np\n",
    "import matplotlib.pyplot as plt\n",
    "import matplotlib as mpl\n",
    "%matplotlib inline\n",
    "\n",
    "df=pd.DataFrame({'2011':[],'2012':[],'2013':[],'2014':[],'2015':[],'2016':[],'2017':[]})\n",
    "for i in range(2011, 2018):\n",
    "    \n",
    "    df_local = pd.read_json(f'clean_files/{i}.json')\n",
    "\n",
    "    df_local['programming_languages_lenght'] = df_local['programming_languages'].apply(lambda x: len(x) if x is not None else None)\n",
    "    df[str(i)]=[df_local['programming_languages_lenght'].mean()]\n",
    "\n",
    "df.plot(kind='bar')  "
   ]
  },
  {
   "cell_type": "markdown",
   "metadata": {},
   "source": [
    "# 3. Representación de la bodega de datos"
   ]
  },
  {
   "cell_type": "markdown",
   "metadata": {},
   "source": [
    "En la bodega de datos tenemos información por año de las variables mencionadas anteriormente por lo que esto nos permite crearnos preguntas que se puedan solucionar mediante la combinación de uno o más campos. En este caso la pregunta que queremos resolver es la ¿cantidad de mujeres que programan algún lenguaje por pais?"
   ]
  },
  {
   "cell_type": "markdown",
   "metadata": {},
   "source": [
    "### Cubo"
   ]
  },
  {
   "cell_type": "code",
   "execution_count": 17,
   "metadata": {},
   "outputs": [],
   "source": [
    "#Adjuntar imagen"
   ]
  },
  {
   "cell_type": "markdown",
   "metadata": {},
   "source": [
    "### Estrella"
   ]
  },
  {
   "cell_type": "code",
   "execution_count": 18,
   "metadata": {},
   "outputs": [],
   "source": [
    "#Adjuntar imagen"
   ]
  },
  {
   "cell_type": "markdown",
   "metadata": {},
   "source": [
    "### Malinowski"
   ]
  },
  {
   "cell_type": "code",
   "execution_count": 19,
   "metadata": {},
   "outputs": [],
   "source": [
    "#Adjuntar imagen"
   ]
  },
  {
   "cell_type": "markdown",
   "metadata": {},
   "source": [
    "# 4. MapReduce"
   ]
  },
  {
   "cell_type": "markdown",
   "metadata": {},
   "source": [
    "Mediante la herramienta **MongoDB** se creó la bodega de datos que nos permite responder la pregunta de la cantidad de programadores por lenguaje, mediante la metodología MapReduce a traves del siguiente script:"
   ]
  },
  {
   "cell_type": "code",
   "execution_count": 20,
   "metadata": {},
   "outputs": [],
   "source": [
    "#Adjuntar script "
   ]
  },
  {
   "cell_type": "code",
   "execution_count": null,
   "metadata": {},
   "outputs": [],
   "source": []
  },
  {
   "cell_type": "markdown",
   "metadata": {},
   "source": [
    "# 5. Rutina de predicción de encuesta 2018"
   ]
  },
  {
   "cell_type": "markdown",
   "metadata": {},
   "source": [
    "Se creo la rutina que permite generar los 50k registros de una posible encuesta en 2018 mediante la rutina en **Python**:"
   ]
  },
  {
   "cell_type": "code",
   "execution_count": 21,
   "metadata": {},
   "outputs": [],
   "source": [
    "#Adjuntar rutina"
   ]
  },
  {
   "cell_type": "markdown",
   "metadata": {},
   "source": [
    "Esta rutina nos permite responder preguntas como : ¿cuántas mujeres programarán en Python en el 2018?"
   ]
  },
  {
   "cell_type": "code",
   "execution_count": 22,
   "metadata": {},
   "outputs": [],
   "source": [
    "#Adjuntar script"
   ]
  },
  {
   "cell_type": "markdown",
   "metadata": {},
   "source": [
    "# 6. Insertar registro en las encuestas"
   ]
  },
  {
   "cell_type": "markdown",
   "metadata": {},
   "source": [
    "Mediante el siguiente script se puede ingresar registos a la bodega de datos:"
   ]
  },
  {
   "cell_type": "code",
   "execution_count": 23,
   "metadata": {},
   "outputs": [],
   "source": [
    "#Adjuntar script"
   ]
  },
  {
   "cell_type": "markdown",
   "metadata": {},
   "source": [
    "# 7. Actualizar registros de las encuestas"
   ]
  },
  {
   "cell_type": "markdown",
   "metadata": {},
   "source": [
    "Mediante el siguiente script se puede actualizar los registos a la bodega de datos:"
   ]
  },
  {
   "cell_type": "code",
   "execution_count": null,
   "metadata": {},
   "outputs": [],
   "source": [
    "#Adjuntar script"
   ]
  }
 ],
 "metadata": {
  "kernelspec": {
   "display_name": "Python 3",
   "language": "python",
   "name": "python3"
  },
  "language_info": {
   "codemirror_mode": {
    "name": "ipython",
    "version": 3
   },
   "file_extension": ".py",
   "mimetype": "text/x-python",
   "name": "python",
   "nbconvert_exporter": "python",
   "pygments_lexer": "ipython3",
   "version": "3.7.1"
  }
 },
 "nbformat": 4,
 "nbformat_minor": 2
}
